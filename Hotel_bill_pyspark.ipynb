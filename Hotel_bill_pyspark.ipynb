{
 "cells": [
  {
   "cell_type": "code",
   "execution_count": 0,
   "metadata": {
    "application/vnd.databricks.v1+cell": {
     "cellMetadata": {
      "byteLimit": 2048000,
      "rowLimit": 10000
     },
     "inputWidgets": {},
     "nuid": "b0cc363a-af5c-45c4-8a59-94e2ea90a3b2",
     "showTitle": false,
     "title": ""
    }
   },
   "outputs": [],
   "source": [
    "file_loc = \"/FileStore/tables/tips.csv\""
   ]
  },
  {
   "cell_type": "code",
   "execution_count": 0,
   "metadata": {
    "application/vnd.databricks.v1+cell": {
     "cellMetadata": {
      "byteLimit": 2048000,
      "rowLimit": 10000
     },
     "inputWidgets": {},
     "nuid": "94b219c3-932e-48dc-9c75-75fcfc24ac8f",
     "showTitle": false,
     "title": ""
    }
   },
   "outputs": [],
   "source": [
    "df = spark.read.csv(file_loc,header = True,inferSchema = True)"
   ]
  },
  {
   "cell_type": "code",
   "execution_count": 0,
   "metadata": {
    "application/vnd.databricks.v1+cell": {
     "cellMetadata": {
      "byteLimit": 2048000,
      "rowLimit": 10000
     },
     "inputWidgets": {},
     "nuid": "4bc37145-8b26-40d6-8752-7c0e02195095",
     "showTitle": false,
     "title": ""
    }
   },
   "outputs": [
    {
     "output_type": "stream",
     "name": "stdout",
     "output_type": "stream",
     "text": [
      "+----------+----+------+------+---+------+----+\n|total_bill| tip|   sex|smoker|day|  time|size|\n+----------+----+------+------+---+------+----+\n|     16.99|1.01|Female|    No|Sun|Dinner|   2|\n|     10.34|1.66|  Male|    No|Sun|Dinner|   3|\n|     21.01| 3.5|  Male|    No|Sun|Dinner|   3|\n|     23.68|3.31|  Male|    No|Sun|Dinner|   2|\n|     24.59|3.61|Female|    No|Sun|Dinner|   4|\n|     25.29|4.71|  Male|    No|Sun|Dinner|   4|\n|      8.77| 2.0|  Male|    No|Sun|Dinner|   2|\n|     26.88|3.12|  Male|    No|Sun|Dinner|   4|\n|     15.04|1.96|  Male|    No|Sun|Dinner|   2|\n|     14.78|3.23|  Male|    No|Sun|Dinner|   2|\n|     10.27|1.71|  Male|    No|Sun|Dinner|   2|\n|     35.26| 5.0|Female|    No|Sun|Dinner|   4|\n|     15.42|1.57|  Male|    No|Sun|Dinner|   2|\n|     18.43| 3.0|  Male|    No|Sun|Dinner|   4|\n|     14.83|3.02|Female|    No|Sun|Dinner|   2|\n|     21.58|3.92|  Male|    No|Sun|Dinner|   2|\n|     10.33|1.67|Female|    No|Sun|Dinner|   3|\n|     16.29|3.71|  Male|    No|Sun|Dinner|   3|\n|     16.97| 3.5|Female|    No|Sun|Dinner|   3|\n|     20.65|3.35|  Male|    No|Sat|Dinner|   3|\n+----------+----+------+------+---+------+----+\nonly showing top 20 rows\n\n"
     ]
    }
   ],
   "source": [
    "df.show()"
   ]
  },
  {
   "cell_type": "code",
   "execution_count": 0,
   "metadata": {
    "application/vnd.databricks.v1+cell": {
     "cellMetadata": {
      "byteLimit": 2048000,
      "rowLimit": 10000
     },
     "inputWidgets": {},
     "nuid": "a47545b8-428c-404e-bbf3-1c754d2fa7ab",
     "showTitle": false,
     "title": ""
    }
   },
   "outputs": [
    {
     "output_type": "stream",
     "name": "stdout",
     "output_type": "stream",
     "text": [
      "root\n |-- total_bill: double (nullable = true)\n |-- tip: double (nullable = true)\n |-- sex: string (nullable = true)\n |-- smoker: string (nullable = true)\n |-- day: string (nullable = true)\n |-- time: string (nullable = true)\n |-- size: integer (nullable = true)\n\n"
     ]
    }
   ],
   "source": [
    "df.printSchema()"
   ]
  },
  {
   "cell_type": "code",
   "execution_count": 0,
   "metadata": {
    "application/vnd.databricks.v1+cell": {
     "cellMetadata": {
      "byteLimit": 2048000,
      "rowLimit": 10000
     },
     "inputWidgets": {},
     "nuid": "535361e3-0dec-4f3a-bb15-a9eb01e114c5",
     "showTitle": false,
     "title": ""
    }
   },
   "outputs": [
    {
     "output_type": "stream",
     "name": "stdout",
     "output_type": "stream",
     "text": [
      "Out[5]: ['total_bill', 'tip', 'sex', 'smoker', 'day', 'time', 'size']"
     ]
    }
   ],
   "source": [
    "df.columns"
   ]
  },
  {
   "cell_type": "code",
   "execution_count": 0,
   "metadata": {
    "application/vnd.databricks.v1+cell": {
     "cellMetadata": {
      "byteLimit": 2048000,
      "rowLimit": 10000
     },
     "inputWidgets": {},
     "nuid": "81206f16-0daf-4e63-a875-9bc1beec2973",
     "showTitle": false,
     "title": ""
    }
   },
   "outputs": [],
   "source": [
    "# encoding columns\n",
    "from pyspark.ml.feature import StringIndexer"
   ]
  },
  {
   "cell_type": "code",
   "execution_count": 0,
   "metadata": {
    "application/vnd.databricks.v1+cell": {
     "cellMetadata": {
      "byteLimit": 2048000,
      "rowLimit": 10000
     },
     "inputWidgets": {},
     "nuid": "d47e5f88-0487-44a5-8888-3569b7ac726c",
     "showTitle": false,
     "title": ""
    }
   },
   "outputs": [
    {
     "output_type": "stream",
     "name": "stdout",
     "output_type": "stream",
     "text": [
      "+----------+----+------+------+---+------+----+---------+------------+---------+----------+\n|total_bill| tip|   sex|smoker|day|  time|size|sex_index|smoker_index|day_index|time_index|\n+----------+----+------+------+---+------+----+---------+------------+---------+----------+\n|     16.99|1.01|Female|    No|Sun|Dinner|   2|      1.0|         0.0|      1.0|       0.0|\n|     10.34|1.66|  Male|    No|Sun|Dinner|   3|      0.0|         0.0|      1.0|       0.0|\n|     21.01| 3.5|  Male|    No|Sun|Dinner|   3|      0.0|         0.0|      1.0|       0.0|\n|     23.68|3.31|  Male|    No|Sun|Dinner|   2|      0.0|         0.0|      1.0|       0.0|\n|     24.59|3.61|Female|    No|Sun|Dinner|   4|      1.0|         0.0|      1.0|       0.0|\n|     25.29|4.71|  Male|    No|Sun|Dinner|   4|      0.0|         0.0|      1.0|       0.0|\n|      8.77| 2.0|  Male|    No|Sun|Dinner|   2|      0.0|         0.0|      1.0|       0.0|\n|     26.88|3.12|  Male|    No|Sun|Dinner|   4|      0.0|         0.0|      1.0|       0.0|\n|     15.04|1.96|  Male|    No|Sun|Dinner|   2|      0.0|         0.0|      1.0|       0.0|\n|     14.78|3.23|  Male|    No|Sun|Dinner|   2|      0.0|         0.0|      1.0|       0.0|\n|     10.27|1.71|  Male|    No|Sun|Dinner|   2|      0.0|         0.0|      1.0|       0.0|\n|     35.26| 5.0|Female|    No|Sun|Dinner|   4|      1.0|         0.0|      1.0|       0.0|\n|     15.42|1.57|  Male|    No|Sun|Dinner|   2|      0.0|         0.0|      1.0|       0.0|\n|     18.43| 3.0|  Male|    No|Sun|Dinner|   4|      0.0|         0.0|      1.0|       0.0|\n|     14.83|3.02|Female|    No|Sun|Dinner|   2|      1.0|         0.0|      1.0|       0.0|\n|     21.58|3.92|  Male|    No|Sun|Dinner|   2|      0.0|         0.0|      1.0|       0.0|\n|     10.33|1.67|Female|    No|Sun|Dinner|   3|      1.0|         0.0|      1.0|       0.0|\n|     16.29|3.71|  Male|    No|Sun|Dinner|   3|      0.0|         0.0|      1.0|       0.0|\n|     16.97| 3.5|Female|    No|Sun|Dinner|   3|      1.0|         0.0|      1.0|       0.0|\n|     20.65|3.35|  Male|    No|Sat|Dinner|   3|      0.0|         0.0|      0.0|       0.0|\n+----------+----+------+------+---+------+----+---------+------------+---------+----------+\nonly showing top 20 rows\n\n"
     ]
    }
   ],
   "source": [
    "indexer = StringIndexer(inputCols=[\"sex\",\"smoker\",\"day\",\"time\"],outputCols=[\"sex_index\",\"smoker_index\",\"day_index\",\"time_index\"])\n",
    "df1=indexer.fit(df).transform(df)\n",
    "df1.show()"
   ]
  },
  {
   "cell_type": "code",
   "execution_count": 0,
   "metadata": {
    "application/vnd.databricks.v1+cell": {
     "cellMetadata": {
      "byteLimit": 2048000,
      "rowLimit": 10000
     },
     "inputWidgets": {},
     "nuid": "e411532d-1b94-4867-8b35-860723adb1f4",
     "showTitle": false,
     "title": ""
    }
   },
   "outputs": [],
   "source": [
    "from pyspark.ml.feature import VectorAssembler \n",
    "featureassembler = VectorAssembler(inputCols= ['tip',\"sex_index\",\"smoker_index\",\"day_index\",\"time_index\"], outputCol=\"Independent Features\")\n",
    "\n",
    "output = featureassembler.transform(df1)"
   ]
  },
  {
   "cell_type": "code",
   "execution_count": 0,
   "metadata": {
    "application/vnd.databricks.v1+cell": {
     "cellMetadata": {
      "byteLimit": 2048000,
      "rowLimit": 10000
     },
     "inputWidgets": {},
     "nuid": "2a8e2570-3ca3-4d5b-8505-dbf680ca2953",
     "showTitle": false,
     "title": ""
    }
   },
   "outputs": [],
   "source": [
    "finalized_data = output.select(\"Independent Features\",\"total_bill\")\n"
   ]
  },
  {
   "cell_type": "code",
   "execution_count": 0,
   "metadata": {
    "application/vnd.databricks.v1+cell": {
     "cellMetadata": {
      "byteLimit": 2048000,
      "rowLimit": 10000
     },
     "inputWidgets": {},
     "nuid": "fe2b5fb7-7860-4ec4-9865-928c01a92a30",
     "showTitle": false,
     "title": ""
    }
   },
   "outputs": [
    {
     "output_type": "stream",
     "name": "stdout",
     "output_type": "stream",
     "text": [
      "+--------------------+----------+\n|Independent Features|total_bill|\n+--------------------+----------+\n|[1.01,1.0,0.0,1.0...|     16.99|\n|(5,[0,3],[1.66,1.0])|     10.34|\n| (5,[0,3],[3.5,1.0])|     21.01|\n|(5,[0,3],[3.31,1.0])|     23.68|\n|[3.61,1.0,0.0,1.0...|     24.59|\n|(5,[0,3],[4.71,1.0])|     25.29|\n| (5,[0,3],[2.0,1.0])|      8.77|\n|(5,[0,3],[3.12,1.0])|     26.88|\n|(5,[0,3],[1.96,1.0])|     15.04|\n|(5,[0,3],[3.23,1.0])|     14.78|\n|(5,[0,3],[1.71,1.0])|     10.27|\n|[5.0,1.0,0.0,1.0,...|     35.26|\n|(5,[0,3],[1.57,1.0])|     15.42|\n| (5,[0,3],[3.0,1.0])|     18.43|\n|[3.02,1.0,0.0,1.0...|     14.83|\n|(5,[0,3],[3.92,1.0])|     21.58|\n|[1.67,1.0,0.0,1.0...|     10.33|\n|(5,[0,3],[3.71,1.0])|     16.29|\n|[3.5,1.0,0.0,1.0,...|     16.97|\n|      (5,[0],[3.35])|     20.65|\n+--------------------+----------+\nonly showing top 20 rows\n\n"
     ]
    }
   ],
   "source": [
    "finalized_data.show()"
   ]
  },
  {
   "cell_type": "code",
   "execution_count": 0,
   "metadata": {
    "application/vnd.databricks.v1+cell": {
     "cellMetadata": {
      "byteLimit": 2048000,
      "rowLimit": 10000
     },
     "inputWidgets": {},
     "nuid": "62f5cfe3-2b52-4026-8fb8-33afa5287b15",
     "showTitle": false,
     "title": ""
    }
   },
   "outputs": [],
   "source": [
    "from pyspark.ml.regression import LinearRegression\n",
    "# train test split\n",
    "train_data,test_data = finalized_data.randomSplit([0.75,0.25])\n",
    "regressor = LinearRegression(featuresCol='Independent Features', labelCol='total_bill')\n",
    "regressor = regressor.fit(train_data)"
   ]
  },
  {
   "cell_type": "code",
   "execution_count": 0,
   "metadata": {
    "application/vnd.databricks.v1+cell": {
     "cellMetadata": {
      "byteLimit": 2048000,
      "rowLimit": 10000
     },
     "inputWidgets": {},
     "nuid": "98ea4c10-3a3c-4135-84c0-534f78498278",
     "showTitle": false,
     "title": ""
    }
   },
   "outputs": [
    {
     "output_type": "stream",
     "name": "stdout",
     "output_type": "stream",
     "text": [
      "Out[16]: DenseVector([4.2995, -1.6026, 0.3312, -0.6607, -0.7382])"
     ]
    }
   ],
   "source": [
    "regressor.coefficients"
   ]
  },
  {
   "cell_type": "code",
   "execution_count": 0,
   "metadata": {
    "application/vnd.databricks.v1+cell": {
     "cellMetadata": {
      "byteLimit": 2048000,
      "rowLimit": 10000
     },
     "inputWidgets": {},
     "nuid": "74d1ac43-528b-4f32-bbba-40b471006123",
     "showTitle": false,
     "title": ""
    }
   },
   "outputs": [
    {
     "output_type": "stream",
     "name": "stdout",
     "output_type": "stream",
     "text": [
      "Out[17]: 8.402621375752965"
     ]
    }
   ],
   "source": [
    "regressor.intercept"
   ]
  },
  {
   "cell_type": "code",
   "execution_count": 0,
   "metadata": {
    "application/vnd.databricks.v1+cell": {
     "cellMetadata": {
      "byteLimit": 2048000,
      "rowLimit": 10000
     },
     "inputWidgets": {},
     "nuid": "d2fb6dfd-a941-438e-8bca-4e960cf4a72d",
     "showTitle": false,
     "title": ""
    }
   },
   "outputs": [],
   "source": [
    "#predictions\n",
    "pred_results = regressor.evaluate(test_data)"
   ]
  },
  {
   "cell_type": "code",
   "execution_count": 0,
   "metadata": {
    "application/vnd.databricks.v1+cell": {
     "cellMetadata": {
      "byteLimit": 2048000,
      "rowLimit": 10000
     },
     "inputWidgets": {},
     "nuid": "ae184ac5-c47e-4316-b09b-5a3fd6e5ef53",
     "showTitle": false,
     "title": ""
    }
   },
   "outputs": [
    {
     "output_type": "stream",
     "name": "stdout",
     "output_type": "stream",
     "text": [
      "+--------------------+----------+------------------+\n|Independent Features|total_bill|        prediction|\n+--------------------+----------+------------------+\n|      (5,[0],[1.25])|     10.51|13.777033106685895|\n|      (5,[0],[1.45])|      9.55|14.636938983635163|\n|      (5,[0],[1.47])|     10.77| 14.72292957133009|\n|      (5,[0],[1.75])|     17.82|15.926797799059067|\n|      (5,[0],[2.24])|     16.04|18.033567197584773|\n|      (5,[0],[2.34])|     17.81|18.463520136059408|\n|      (5,[0],[3.15])|     20.08| 21.94613893770395|\n|      (5,[0],[3.18])|     19.82| 22.07512481924634|\n|      (5,[0],[3.27])|     17.78|22.462082463873507|\n|       (5,[0],[3.6])|     24.06|23.880927160839803|\n| (5,[0,1],[1.0,1.0])|      7.25| 11.09956800844155|\n|(5,[0,1],[2.23,1.0])|     15.77| 16.38798915167955|\n|(5,[0,2],[1.17,1.0])|     32.83|13.764265730279373|\n| (5,[0,2],[2.0,1.0])|     22.67| 17.33287511961884|\n| (5,[0,2],[3.0,1.0])|     15.69|21.632404504365184|\n| (5,[0,2],[3.0,1.0])|     38.73|21.632404504365184|\n|(5,[0,2],[5.16,1.0])|     25.89|30.919387975417287|\n|(5,[0,3],[1.56,1.0])|      9.94|14.449169030544972|\n|(5,[0,3],[1.66,1.0])|     10.34|14.879121969019605|\n| (5,[0,3],[2.5,1.0])|     14.07|18.490726652206533|\n+--------------------+----------+------------------+\nonly showing top 20 rows\n\n"
     ]
    }
   ],
   "source": [
    "pred_results.predictions.show()"
   ]
  },
  {
   "cell_type": "code",
   "execution_count": 0,
   "metadata": {
    "application/vnd.databricks.v1+cell": {
     "cellMetadata": {
      "byteLimit": 2048000,
      "rowLimit": 10000
     },
     "inputWidgets": {},
     "nuid": "7b0ac2d3-74df-4454-8820-a8649b076d08",
     "showTitle": false,
     "title": ""
    }
   },
   "outputs": [
    {
     "output_type": "stream",
     "name": "stdout",
     "output_type": "stream",
     "text": [
      "Out[20]: (0.34745529902911165, 4.996022408905782, 48.130073772203566)"
     ]
    }
   ],
   "source": [
    "pred_results.r2,pred_results.meanAbsoluteError,pred_results.meanSquaredError"
   ]
  },
  {
   "cell_type": "code",
   "execution_count": 0,
   "metadata": {
    "application/vnd.databricks.v1+cell": {
     "cellMetadata": {},
     "inputWidgets": {},
     "nuid": "38fb0c6d-28fc-442e-905b-c0105d40c2d8",
     "showTitle": false,
     "title": ""
    }
   },
   "outputs": [],
   "source": []
  }
 ],
 "metadata": {
  "application/vnd.databricks.v1+notebook": {
   "dashboards": [],
   "environmentMetadata": null,
   "language": "python",
   "notebookMetadata": {
    "pythonIndentUnit": 4
   },
   "notebookName": "Tips_project",
   "widgets": {}
  }
 },
 "nbformat": 4,
 "nbformat_minor": 0
}
